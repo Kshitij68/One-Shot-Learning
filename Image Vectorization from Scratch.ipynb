{
 "cells": [
  {
   "cell_type": "code",
   "execution_count": 9,
   "metadata": {},
   "outputs": [],
   "source": [
    "import warnings\n",
    "warnings.filterwarnings('ignore')\n",
    "import numpy as np\n",
    "from keras.preprocessing import image\n",
    "test_image = image.load_img('Dataset/coke_bottle.jpeg')\n",
    "test_image = image.img_to_array(test_image)\n",
    "test_image = np.array(list([test_image,test_image]))"
   ]
  },
  {
   "cell_type": "code",
   "execution_count": null,
   "metadata": {},
   "outputs": [],
   "source": [
    "from keras.layers import Conv3D\n",
    "\n",
    "model = Sequential()\n",
    "model.add((Conv3D(48, kernel_size = (5,5), padding='same', input_shape = (225,225,3))))\n",
    "model.add(PReLU())\n",
    "model.add(Flatten())\n",
    "model.add(Dense(500))"
   ]
  }
 ],
 "metadata": {
  "kernelspec": {
   "display_name": "tensorflow",
   "language": "python",
   "name": "tensorflow"
  },
  "language_info": {
   "codemirror_mode": {
    "name": "ipython",
    "version": 3
   },
   "file_extension": ".py",
   "mimetype": "text/x-python",
   "name": "python",
   "nbconvert_exporter": "python",
   "pygments_lexer": "ipython3",
   "version": "3.6.4"
  }
 },
 "nbformat": 4,
 "nbformat_minor": 2
}
